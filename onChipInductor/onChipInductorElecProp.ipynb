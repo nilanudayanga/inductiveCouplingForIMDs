{
 "cells": [
  {
   "cell_type": "markdown",
   "id": "5fc08585",
   "metadata": {},
   "source": [
    "**Calculate inductance**"
   ]
  },
  {
   "cell_type": "code",
   "execution_count": 15,
   "id": "a608ac22",
   "metadata": {},
   "outputs": [],
   "source": [
    "import numpy as np\n",
    "\n",
    "u = 1*10**-6 # micro\n",
    "n = 1*10**-9 # nano\n",
    "p = 1*10**-12 # pico\n",
    "f = 1*10**-15 # femto\n",
    "\n",
    "nT = 2 # number of turns\n",
    "u0 = 4*np.pi*10**-7 # free space permeability 4π × 10−7\n",
    "dIn = 1024 * u # inner diameter\n",
    "dOut = 1200 * u # outer diameter\n",
    "dAve = 0.5 * (dIn+dOut) # average diameter\n",
    "phi = (dOut - dIn)/(dOut + dIn)\n",
    "\n",
    "c1 = 1.27\n",
    "c2 = 2.07\n",
    "c3 = 0.18\n",
    "c4 = 0.13\n",
    "\n",
    "L =  0.5*(c1*u0*(nT**2)*dAve)*(np.log(c2/phi)+c3*phi+c4*phi**2)"
   ]
  },
  {
   "cell_type": "code",
   "execution_count": 16,
   "id": "c9abc7ab",
   "metadata": {
    "scrolled": true
   },
   "outputs": [
    {
     "name": "stdout",
     "output_type": "stream",
     "text": [
      "Inductance is:  1.163896656577268e-08\n"
     ]
    }
   ],
   "source": [
    "print(\"Inductance: \",L)"
   ]
  },
  {
   "cell_type": "markdown",
   "id": "aa102396",
   "metadata": {},
   "source": [
    "**Calculate series resistance**"
   ]
  },
  {
   "cell_type": "code",
   "execution_count": 46,
   "id": "551fd82c",
   "metadata": {},
   "outputs": [],
   "source": [
    "rho = 17.2*n # conductivity of the metal\n",
    "W = 40*u # width of the metal line\n",
    "T = 3.4*u # Thickness of the metal\n",
    "S = 8*u # spacing between the metal lines\n",
    "l = 4*nT*dOut - 4*n*W - ((2*n+1)**2)*(S+W)# length of the metal\n",
    "f = 915*10**6 # frequency\n",
    "w = 2*np.pi*f # angular frequency\n",
    "delta = np.sqrt(2*rho/(u0*w)) # skin depth\n",
    "\n",
    "R = ((rho*l)/W)*(1/(delta*(1-np.exp(-T/delta))))*(1/(1+T/W))"
   ]
  },
  {
   "cell_type": "code",
   "execution_count": 47,
   "id": "e343c24f",
   "metadata": {},
   "outputs": [
    {
     "name": "stdout",
     "output_type": "stream",
     "text": [
      "Series resistance:  2.197468549730988\n"
     ]
    }
   ],
   "source": [
    "print(\"Series resistance: \", R)"
   ]
  },
  {
   "cell_type": "code",
   "execution_count": 48,
   "id": "dbedfdba",
   "metadata": {},
   "outputs": [],
   "source": [
    "Q = L*w/R # quality factor"
   ]
  },
  {
   "cell_type": "code",
   "execution_count": 49,
   "id": "3166f058",
   "metadata": {},
   "outputs": [
    {
     "name": "stdout",
     "output_type": "stream",
     "text": [
      "Quality factor at 915 MHz:  30.450379874187227\n"
     ]
    }
   ],
   "source": [
    "print(\"Quality factor at 915 MHz: \", Q) "
   ]
  },
  {
   "cell_type": "markdown",
   "id": "5ac8ff5e",
   "metadata": {},
   "source": [
    "**Improve the series resistance calculation by incooperating the proximity effect**"
   ]
  },
  {
   "cell_type": "code",
   "execution_count": 50,
   "id": "da610c65",
   "metadata": {},
   "outputs": [],
   "source": [
    "rDC = (rho*l)/(W*T) # DC resistance\n",
    "wc = (3.1*rho*(S+W))/(u0*(W**2)*T)\n",
    "rProx = (rDC/10)*((w/wc)**2)\n",
    "rTot = R+rProx"
   ]
  },
  {
   "cell_type": "code",
   "execution_count": 51,
   "id": "65e4033c",
   "metadata": {},
   "outputs": [
    {
     "name": "stdout",
     "output_type": "stream",
     "text": [
      "Series resistance:  30.68406402187045\n"
     ]
    }
   ],
   "source": [
    "print(\"Series resistance: \", rTot)"
   ]
  },
  {
   "cell_type": "code",
   "execution_count": 54,
   "id": "6e8e1c85",
   "metadata": {},
   "outputs": [],
   "source": [
    "Q1 = L*w/rTot # quality factor"
   ]
  },
  {
   "cell_type": "code",
   "execution_count": 55,
   "id": "aaa20417",
   "metadata": {},
   "outputs": [
    {
     "name": "stdout",
     "output_type": "stream",
     "text": [
      "Quality factor at 915 MHz:  2.1807330363146895\n"
     ]
    }
   ],
   "source": [
    "print(\"Quality factor at 915 MHz: \", Q1) "
   ]
  },
  {
   "cell_type": "markdown",
   "id": "e7c80c08",
   "metadata": {},
   "source": [
    "**Calculate the parallel capacitance**"
   ]
  },
  {
   "cell_type": "code",
   "execution_count": null,
   "id": "395e95e9",
   "metadata": {},
   "outputs": [],
   "source": []
  }
 ],
 "metadata": {
  "kernelspec": {
   "display_name": "Python 3 (ipykernel)",
   "language": "python",
   "name": "python3"
  },
  "language_info": {
   "codemirror_mode": {
    "name": "ipython",
    "version": 3
   },
   "file_extension": ".py",
   "mimetype": "text/x-python",
   "name": "python",
   "nbconvert_exporter": "python",
   "pygments_lexer": "ipython3",
   "version": "3.9.7"
  }
 },
 "nbformat": 4,
 "nbformat_minor": 5
}
